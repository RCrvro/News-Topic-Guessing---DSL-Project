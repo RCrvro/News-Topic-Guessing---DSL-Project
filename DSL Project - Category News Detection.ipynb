{
 "cells": [
  {
   "cell_type": "markdown",
   "metadata": {},
   "source": [
    "# DSL Project - Category News Detection"
   ]
  },
  {
   "cell_type": "code",
   "execution_count": 1,
   "metadata": {},
   "outputs": [],
   "source": [
    "import pandas as pd\n",
    "import numpy as np"
   ]
  },
  {
   "cell_type": "code",
   "execution_count": null,
   "metadata": {},
   "outputs": [],
   "source": [
    "news_db = pd.read_csv(\"/Users/riccardocervero/Desktop/news.csv\")\n",
    "news = news_db[news_db.section.notna()]\n",
    "news = news[news.title.notna()]\n",
    "news = news[news.content.notna()]\n",
    "news=news.drop(['year','month','url'],axis=1)"
   ]
  },
  {
   "cell_type": "code",
   "execution_count": 7,
   "metadata": {},
   "outputs": [
    {
     "data": {
      "text/html": [
       "<div>\n",
       "<style scoped>\n",
       "    .dataframe tbody tr th:only-of-type {\n",
       "        vertical-align: middle;\n",
       "    }\n",
       "\n",
       "    .dataframe tbody tr th {\n",
       "        vertical-align: top;\n",
       "    }\n",
       "\n",
       "    .dataframe thead th {\n",
       "        text-align: right;\n",
       "    }\n",
       "</style>\n",
       "<table border=\"1\" class=\"dataframe\">\n",
       "  <thead>\n",
       "    <tr style=\"text-align: right;\">\n",
       "      <th></th>\n",
       "      <th>date</th>\n",
       "      <th>title</th>\n",
       "      <th>content</th>\n",
       "      <th>author</th>\n",
       "      <th>publication</th>\n",
       "      <th>section</th>\n",
       "      <th>category</th>\n",
       "      <th>digital</th>\n",
       "    </tr>\n",
       "  </thead>\n",
       "  <tbody>\n",
       "    <tr>\n",
       "      <th>0</th>\n",
       "      <td>2015-12-31</td>\n",
       "      <td>Fire tears through Dubai luxury hotel near pla...</td>\n",
       "      <td>[Sign in to comment!, More than a dozen people...</td>\n",
       "      <td>NaN</td>\n",
       "      <td>Fox News</td>\n",
       "      <td>world</td>\n",
       "      <td>broadcast</td>\n",
       "      <td>3.0</td>\n",
       "    </tr>\n",
       "  </tbody>\n",
       "</table>\n",
       "</div>"
      ],
      "text/plain": [
       "         date                                              title  \\\n",
       "0  2015-12-31  Fire tears through Dubai luxury hotel near pla...   \n",
       "\n",
       "                                             content author publication  \\\n",
       "0  [Sign in to comment!, More than a dozen people...    NaN    Fox News   \n",
       "\n",
       "  section   category  digital  \n",
       "0   world  broadcast      3.0  "
      ]
     },
     "execution_count": 7,
     "metadata": {},
     "output_type": "execute_result"
    }
   ],
   "source": [
    "news = news.reset_index()\n",
    "news = news[['date','title','content','author','publication','section','category','digital']]\n",
    "news.head(1)"
   ]
  },
  {
   "cell_type": "code",
   "execution_count": 9,
   "metadata": {},
   "outputs": [
    {
     "name": "stdout",
     "output_type": "stream",
     "text": [
      "Fox News has an occurrence of 6.136284053505148 %\n",
      "Talking Points Memo has an occurrence of 7.454303522655648 %\n",
      "Buzzfeed News has an occurrence of 14.985643252328595 %\n",
      "National Review has an occurrence of 8.765319700259122 %\n",
      "New York Post has an occurrence of 23.924644582953988 %\n",
      "Guardian has an occurrence of 12.161916100567266 %\n",
      "NPR has an occurrence of 10.908326913649415 %\n",
      "Los Angeles Times has an occurrence of 0.04342040759156804 %\n",
      "Washington Post has an occurrence of 15.620141466489251 %\n"
     ]
    }
   ],
   "source": [
    "for i in news.publication.unique():\n",
    "    print(i,\"has an occurrence of\",(len(news[news.publication==i])/len(news))*100,\"%\")"
   ]
  },
  {
   "cell_type": "code",
   "execution_count": 14,
   "metadata": {},
   "outputs": [
    {
     "name": "stdout",
     "output_type": "stream",
     "text": [
      "broadcast has an occurrence of 6.136284053505148 %\n",
      "general has an occurrence of 22.439946774984243 %\n",
      "nan has an occurrence of 0.0 %\n",
      "newspaper has an occurrence of 27.825477974648084 %\n",
      "radio has an occurrence of 10.908326913649415 %\n"
     ]
    }
   ],
   "source": [
    "for i in news.category.unique():\n",
    "    print(i,\"has an occurrence of\",(len(news[news.category==i])/len(news))*100,\"%\")"
   ]
  },
  {
   "cell_type": "code",
   "execution_count": 15,
   "metadata": {},
   "outputs": [
    {
     "data": {
      "text/plain": [
       "publication          category \n",
       "Buzzfeed News        general      10699\n",
       "Fox News             broadcast     4381\n",
       "Guardian             newspaper     8683\n",
       "Los Angeles Times    newspaper       31\n",
       "NPR                  radio         7788\n",
       "Talking Points Memo  general       5322\n",
       "Washington Post      newspaper    11152\n",
       "dtype: int64"
      ]
     },
     "execution_count": 15,
     "metadata": {},
     "output_type": "execute_result"
    }
   ],
   "source": [
    "news.groupby(['publication','category'])['publication','category'].size()"
   ]
  },
  {
   "cell_type": "markdown",
   "metadata": {},
   "source": [
    "As we can see, every 'publication' has a specific channel to broadcast its contents through."
   ]
  },
  {
   "cell_type": "code",
   "execution_count": 21,
   "metadata": {},
   "outputs": [
    {
     "data": {
      "text/plain": [
       "section\n",
       "13.7                   214\n",
       "2014                     2\n",
       "2015                    39\n",
       "2016                  8569\n",
       "2017                  8472\n",
       "ablogsupreme             1\n",
       "adambvary               15\n",
       "adamserwer              18\n",
       "adolfoflores            83\n",
       "adriancarrasquillo      78\n",
       "dtype: int64"
      ]
     },
     "execution_count": 21,
     "metadata": {},
     "output_type": "execute_result"
    }
   ],
   "source": [
    "news.groupby('section').size().head(10)"
   ]
  },
  {
   "cell_type": "markdown",
   "metadata": {},
   "source": [
    "There could be a problem on some rows:"
   ]
  },
  {
   "cell_type": "code",
   "execution_count": 24,
   "metadata": {},
   "outputs": [
    {
     "data": {
      "text/html": [
       "<div>\n",
       "<style scoped>\n",
       "    .dataframe tbody tr th:only-of-type {\n",
       "        vertical-align: middle;\n",
       "    }\n",
       "\n",
       "    .dataframe tbody tr th {\n",
       "        vertical-align: top;\n",
       "    }\n",
       "\n",
       "    .dataframe thead th {\n",
       "        text-align: right;\n",
       "    }\n",
       "</style>\n",
       "<table border=\"1\" class=\"dataframe\">\n",
       "  <thead>\n",
       "    <tr style=\"text-align: right;\">\n",
       "      <th></th>\n",
       "      <th>date</th>\n",
       "      <th>title</th>\n",
       "      <th>content</th>\n",
       "      <th>author</th>\n",
       "      <th>publication</th>\n",
       "      <th>section</th>\n",
       "      <th>category</th>\n",
       "      <th>digital</th>\n",
       "    </tr>\n",
       "  </thead>\n",
       "  <tbody>\n",
       "    <tr>\n",
       "      <th>35580</th>\n",
       "      <td>2015-12-28</td>\n",
       "      <td>Demand for these tiny NYC apartments is off th...</td>\n",
       "      <td>AP Photo AP Photo AP Photo AP Photo AP Photo V...</td>\n",
       "      <td>Lindsay Putnam</td>\n",
       "      <td>New York Post</td>\n",
       "      <td>2015</td>\n",
       "      <td>NaN</td>\n",
       "      <td>1.0</td>\n",
       "    </tr>\n",
       "  </tbody>\n",
       "</table>\n",
       "</div>"
      ],
      "text/plain": [
       "             date                                              title  \\\n",
       "35580  2015-12-28  Demand for these tiny NYC apartments is off th...   \n",
       "\n",
       "                                                 content          author  \\\n",
       "35580  AP Photo AP Photo AP Photo AP Photo AP Photo V...  Lindsay Putnam   \n",
       "\n",
       "         publication section category  digital  \n",
       "35580  New York Post    2015      NaN      1.0  "
      ]
     },
     "execution_count": 24,
     "metadata": {},
     "output_type": "execute_result"
    }
   ],
   "source": [
    "news[news.section=='2015'].head(1)"
   ]
  },
  {
   "cell_type": "code",
   "execution_count": 43,
   "metadata": {},
   "outputs": [
    {
     "data": {
      "text/plain": [
       "array(['New York Post'], dtype=object)"
      ]
     },
     "execution_count": 43,
     "metadata": {},
     "output_type": "execute_result"
    }
   ],
   "source": [
    "pd.Series(news[news.section == '2014'] ['publication']).unique()"
   ]
  },
  {
   "cell_type": "code",
   "execution_count": 44,
   "metadata": {},
   "outputs": [
    {
     "data": {
      "text/plain": [
       "array(['New York Post'], dtype=object)"
      ]
     },
     "execution_count": 44,
     "metadata": {},
     "output_type": "execute_result"
    }
   ],
   "source": [
    "pd.Series(news[news.section == '2015'] ['publication']).unique()"
   ]
  },
  {
   "cell_type": "code",
   "execution_count": 45,
   "metadata": {},
   "outputs": [
    {
     "data": {
      "text/plain": [
       "array(['Fox News', 'New York Post'], dtype=object)"
      ]
     },
     "execution_count": 45,
     "metadata": {},
     "output_type": "execute_result"
    }
   ],
   "source": [
    "pd.Series(news[news.section == '2016'] ['publication']).unique()"
   ]
  },
  {
   "cell_type": "code",
   "execution_count": 50,
   "metadata": {},
   "outputs": [
    {
     "data": {
      "text/plain": [
       "1"
      ]
     },
     "execution_count": 50,
     "metadata": {},
     "output_type": "execute_result"
    }
   ],
   "source": [
    "len(news[(news.section == '2016') & (news.publication == 'Fox News')])"
   ]
  },
  {
   "cell_type": "code",
   "execution_count": 46,
   "metadata": {},
   "outputs": [
    {
     "data": {
      "text/plain": [
       "array(['New York Post'], dtype=object)"
      ]
     },
     "execution_count": 46,
     "metadata": {},
     "output_type": "execute_result"
    }
   ],
   "source": [
    "pd.Series(news[news.section == '2017'] ['publication']).unique()"
   ]
  },
  {
   "cell_type": "markdown",
   "metadata": {},
   "source": [
    "In conclusion, the section named as a year belong to New York Post, except one observation belonging to Fox Sport. Looking at content and title of these observation, they seem to belong to a unspecified \"news\" category:"
   ]
  },
  {
   "cell_type": "code",
   "execution_count": 61,
   "metadata": {},
   "outputs": [
    {
     "data": {
      "text/plain": [
       "'Hotel hermit got $17M to make way for 15 Central Park\\xa0West'"
      ]
     },
     "execution_count": 61,
     "metadata": {},
     "output_type": "execute_result"
    }
   ],
   "source": [
    "news[news.section=='2014']['title'].loc[27456]"
   ]
  },
  {
   "cell_type": "code",
   "execution_count": 65,
   "metadata": {},
   "outputs": [
    {
     "data": {
      "text/plain": [
       "'Pregnant CNN anchor faints live on\\xa0air'"
      ]
     },
     "execution_count": 65,
     "metadata": {},
     "output_type": "execute_result"
    }
   ],
   "source": [
    "news[news.section=='2015']['title'].loc[35796]"
   ]
  },
  {
   "cell_type": "code",
   "execution_count": 67,
   "metadata": {},
   "outputs": [
    {
     "data": {
      "text/plain": [
       "'Gunman dressed as Santa Claus kills dozens at Istanbul\\xa0nightclub'"
      ]
     },
     "execution_count": 67,
     "metadata": {},
     "output_type": "execute_result"
    }
   ],
   "source": [
    "news[news.section=='2016']['title'].loc[26660]"
   ]
  },
  {
   "cell_type": "code",
   "execution_count": 68,
   "metadata": {},
   "outputs": [
    {
     "data": {
      "text/plain": [
       "2463    O'Reilly: A Lesson for Donald Trump\n",
       "Name: title, dtype: object"
      ]
     },
     "execution_count": 68,
     "metadata": {},
     "output_type": "execute_result"
    }
   ],
   "source": [
    "news[(news.section=='2016')&(news.publication=='Fox News')]['title']"
   ]
  },
  {
   "cell_type": "code",
   "execution_count": 71,
   "metadata": {},
   "outputs": [
    {
     "data": {
      "text/plain": [
       "'Riders say Second Avenue Subway already has\\xa0issues'"
      ]
     },
     "execution_count": 71,
     "metadata": {},
     "output_type": "execute_result"
    }
   ],
   "source": [
    "news[news.section=='2017']['title'].loc[26731]"
   ]
  },
  {
   "cell_type": "markdown",
   "metadata": {},
   "source": [
    "Another problem could be with '13.7':"
   ]
  },
  {
   "cell_type": "code",
   "execution_count": 73,
   "metadata": {},
   "outputs": [
    {
     "data": {
      "text/plain": [
       "array(['NPR'], dtype=object)"
      ]
     },
     "execution_count": 73,
     "metadata": {},
     "output_type": "execute_result"
    }
   ],
   "source": [
    "pd.Series(news[news.section == '13.7'] ['publication']).unique()"
   ]
  },
  {
   "cell_type": "code",
   "execution_count": 78,
   "metadata": {},
   "outputs": [
    {
     "data": {
      "text/plain": [
       "52448    The Stories NPR One Listeners Loved The Most I...\n",
       "52460    Adopting A Sci-Fi Way Of Thinking About The Fu...\n",
       "52483             Video: Swooping Starlings In Murmuration\n",
       "52563     Personal-Productivity Efforts Are Doomed To Fail\n",
       "52610                                How Smart Are Horses?\n",
       "52624                   Philosophy In The Octopus's Garden\n",
       "52681    Why Hell Can't Freeze Over: Quantum Physics An...\n",
       "52748     Fact Check: Science And The Trump Administration\n",
       "52828    The Science Of Gender: No, Men Aren't From Mar...\n",
       "52864    Can We Learn Something About Jet Lag From MLB ...\n",
       "52884                          What Makes Science Science?\n",
       "52899                Taking Stock In The Search For Aliens\n",
       "52921                       Reality Is Not What We Can See\n",
       "52938         A New View Into The Primate Birthing Process\n",
       "52961     Why Do Many Think Human Blood Is Sometimes Blue?\n",
       "52992     3 Things You Might Not Know About Charles Darwin\n",
       "53036    Math To The Stars: The Ladies Of 'Hidden Figures'\n",
       "53062                                Can We Trust Science?\n",
       "53095                             Why I'd Rather Not March\n",
       "53126                   Video: Making Snowflakes In Slo-Mo\n",
       "53145     In Space, Using The Toilet Is Quite An Operation\n",
       "53153                  Does Science Know Right From Wrong?\n",
       "53169    Pet-Directed Speech May Convey Intentions In S...\n",
       "53235             The Wilderness Vs. The Wildness About Us\n",
       "53272    Doctor's Book Presents The Case Against 'Dairy...\n",
       "53345                    Do You Really Have That Disease? \n",
       "53430          Autism And The Drive To Explain And Explore\n",
       "53536                                 Beware Of 'Accuracy'\n",
       "53567                        A Mutant Holocaust In 'Logan'\n",
       "53637                Is Happiness A Universal Human Right?\n",
       "                               ...                        \n",
       "59321                Sugar's Transition From Nice To Nasty\n",
       "59344      Halloween Provides A Look Into Human Psychology\n",
       "59373    An Issue That Should Bring Us Together: The St...\n",
       "59395    When Animals Attack, Some Respond With Compassion\n",
       "59408    The Upshot Of New Screen Time Guidelines? Spen...\n",
       "59438                        Social Science Says: Go Vote!\n",
       "59489    Authenticity, Weight And Character Portrayals ...\n",
       "59585                          Can Science Save The World?\n",
       "59633                    Reducing Fear Without Fear Itself\n",
       "59642    The 'Arrival' Of The Heptapods: Time Holds The...\n",
       "59656    Giving Thanks For Animals — And Those Who Help...\n",
       "59711    For Some, Scientists Aren't The Authority On S...\n",
       "59739                             ExxonMobil Vs. The World\n",
       "59764    What Do Birds Hear When They Sing Beautiful So...\n",
       "59778                 Is Being 'Post-Truth' A New Concept?\n",
       "59802                          Einstein's Age Of Extremism\n",
       "59831      What Smart Aliens Could Teach Us About Survival\n",
       "59846       Is Education Tied To Conspiracy Theory Belief?\n",
       "59864                         Were Neanderthals Religious?\n",
       "59866               Could You Power Your Home With A Bike?\n",
       "59900             Are We Conscious During Dreamless Sleep?\n",
       "59928    Early Family Life May Be Tied To 'Mind-Reading...\n",
       "59953           What Does It Really Mean To 'Be Here Now'?\n",
       "59973            Taking Stock Of The State Of The Universe\n",
       "59982    Together, Art And Science Can Help Build An Un...\n",
       "60015      Brain, Mind, Body And The Disease Of Addiction \n",
       "60033    A Planet With Brains? The Peril And Potential ...\n",
       "60046                The Ideal Mother Vs. The Ideal Worker\n",
       "60075    The Star Of Bethlehem And The Magi: Myth Or Re...\n",
       "60162    From A Science Perspective: Books Trump Should...\n",
       "Name: title, Length: 214, dtype: object"
      ]
     },
     "execution_count": 78,
     "metadata": {},
     "output_type": "execute_result"
    }
   ],
   "source": [
    "news[news.section == '13.7']['title']"
   ]
  },
  {
   "cell_type": "markdown",
   "metadata": {},
   "source": [
    "This section almost always talks about science, thus we create the class 'science':"
   ]
  },
  {
   "cell_type": "code",
   "execution_count": 79,
   "metadata": {},
   "outputs": [],
   "source": [
    "news.section = news.section.replace('13.7','Science')"
   ]
  },
  {
   "cell_type": "markdown",
   "metadata": {},
   "source": [
    "Now we can search another section talking about 'Science' with regular expression:"
   ]
  },
  {
   "cell_type": "code",
   "execution_count": 98,
   "metadata": {},
   "outputs": [],
   "source": [
    "import re\n",
    "science_list = []\n",
    "for x in news.section.unique(): \n",
    "    if re.findall(\"(?i).*(scien).*\",x):\n",
    "        science_list.append(x)\n",
    "science_list = [e for e in science_list if e not in ['Science']]"
   ]
  },
  {
   "cell_type": "code",
   "execution_count": 99,
   "metadata": {},
   "outputs": [
    {
     "data": {
      "text/plain": [
       "['science']"
      ]
     },
     "execution_count": 99,
     "metadata": {},
     "output_type": "execute_result"
    }
   ],
   "source": [
    "science_list"
   ]
  },
  {
   "cell_type": "code",
   "execution_count": 100,
   "metadata": {},
   "outputs": [],
   "source": [
    "news.section = news.section.replace('Science','science')"
   ]
  },
  {
   "cell_type": "markdown",
   "metadata": {},
   "source": [
    "Then, it is useful to aggregate science class with all articles talking about medicine and technologies."
   ]
  },
  {
   "cell_type": "code",
   "execution_count": 212,
   "metadata": {},
   "outputs": [],
   "source": [
    "th = []\n",
    "for x in news.section.unique(): \n",
    "    if re.findall(\"(?i).*(tech).*\",x):\n",
    "        th.append(x)\n",
    "th.append('science')"
   ]
  },
  {
   "cell_type": "code",
   "execution_count": 213,
   "metadata": {},
   "outputs": [],
   "source": [
    "for i in th:\n",
    "    news.section = news.section.replace(i,\"science & tech\")"
   ]
  },
  {
   "cell_type": "markdown",
   "metadata": {},
   "source": [
    "Since most of section are names of an author, thus, to aggregate, we decide to visually select only the topics that do not seem a name:"
   ]
  },
  {
   "cell_type": "code",
   "execution_count": 214,
   "metadata": {},
   "outputs": [],
   "source": [
    "topics = ['world', 'politics', 'us', 'markets', 'opinion', 'entertainment',\n",
    "       'sports', 'science & tech', 'health', 'travel', 'tech', 'leisure',\n",
    "       '2016', 'auto', 'transcript', 'weather', 'food-drink',\n",
    "       'livewire', 'news', 'edblog', 'world-news', 'cafe', 'dc',\n",
    "       'muckraker', 'fivepoints', 'polltracker', 'this-chart', 'skarlan',\n",
    "          'mbvd','sapna', 'passantino','article',\n",
    "       '2017', '2014', '2015', 'commentisfree', 'sport', 'us-news',\n",
    "       'artanddesign', 'football', 'lifeandstyle', 'environment', 'film',\n",
    "       'technology', 'books', 'culture', 'global', 'uk-news',\n",
    "       'society', 'music', 'business', 'money',\n",
    "       'how-to-solve-a-murder-a-detectives-dilemma', 'tv-and-radio',\n",
    "       'cities', 'info', 'inequality', 'personal-investments', 'fashion',\n",
    "       'australia-news', 'global-development', 'media', 'education',\n",
    "       'stage', 'canneslions', 'sustainable-business',\n",
    "       'hawaii-for-foodies', 'law', 'theguardian', 'membership',\n",
    "       'global-development-professionals-network', 'health-revolution',\n",
    "       'defining-moment', 'progress-personified',\n",
    "       'flight-centre-journeys', 'sustainable-connections',\n",
    "       'media-network', 'theobserver', 'thetwo-way',\n",
    "       'health-shots', 'ed', 'thesalt', 'alltechconsidered',\n",
    "       'goatsandsoda', 'deceptivecadence', 'monkeysee', 'allsongs',\n",
    "       '13.7', 'parallels', 'codeswitch', 'altlatino', \n",
    "       'world-cafe', 'therecord', 'itsallpolitics', 'npr-history-dept',\n",
    "       'thetorch', 'ablogsupreme', 'nation',\n",
    "       'local', 'food', 'opinions', 'national', 'lifestyle', 'blogs',\n",
    "       'posteverything', 'cars', 'powerpost', 'goingoutguide',\n",
    "       'investigations', 'outlook', 'express', 'realestate']"
   ]
  },
  {
   "cell_type": "markdown",
   "metadata": {},
   "source": [
    "We can aggregate by:"
   ]
  },
  {
   "cell_type": "markdown",
   "metadata": {},
   "source": [
    "LAW & POLITICS, articles and comments about US or foreign politics, and law."
   ]
  },
  {
   "cell_type": "code",
   "execution_count": 161,
   "metadata": {},
   "outputs": [],
   "source": [
    "l_p = ['politics','opinion','livewire','article','commentisfree','edblog','cafe', 'dc',\n",
    "       'muckraker', 'fivepoints', 'polltracker', 'this-chart','transcript',\n",
    "       'itsallpolitics','opinions','inequality','canneslions','nation','blogs',\n",
    "       'law','posteverything','membership','outlook','powerpost','theobserver','codeswitch']"
   ]
  },
  {
   "cell_type": "code",
   "execution_count": 162,
   "metadata": {},
   "outputs": [],
   "source": [
    "for i in l_p:\n",
    "    news.section = news.section.replace(i,\"law & politics\")"
   ]
  },
  {
   "cell_type": "markdown",
   "metadata": {},
   "source": [
    "NEWS, every article or comment giving informations about a contemporary event, and about weather."
   ]
  },
  {
   "cell_type": "code",
   "execution_count": 216,
   "metadata": {},
   "outputs": [],
   "source": [
    "import re\n",
    "news_list = []\n",
    "for x in news.section.unique(): \n",
    "    if re.findall(\"(?i).*(new).*\",x):\n",
    "        news_list.append(x)\n",
    "news_list = [e for e in news_list if e not in ['hazelnewlevant']]"
   ]
  },
  {
   "cell_type": "code",
   "execution_count": 217,
   "metadata": {},
   "outputs": [],
   "source": [
    "news_list.extend(['passantino','mbvd','national','local','thetwo-way','parallels','world','us','weather','2016','2017', '2014', '2015'])"
   ]
  },
  {
   "cell_type": "code",
   "execution_count": 218,
   "metadata": {},
   "outputs": [
    {
     "data": {
      "text/plain": [
       "['news',\n",
       " 'world-news',\n",
       " 'buzzfeednews',\n",
       " 'us-news',\n",
       " 'uk-news',\n",
       " 'australia-news',\n",
       " 'passantino',\n",
       " 'mbvd',\n",
       " 'national',\n",
       " 'local',\n",
       " 'thetwo-way',\n",
       " 'parallels',\n",
       " 'world',\n",
       " 'us',\n",
       " 'weather',\n",
       " '2016',\n",
       " '2017',\n",
       " '2014',\n",
       " '2015']"
      ]
     },
     "execution_count": 218,
     "metadata": {},
     "output_type": "execute_result"
    }
   ],
   "source": [
    "news_list"
   ]
  },
  {
   "cell_type": "code",
   "execution_count": 219,
   "metadata": {},
   "outputs": [],
   "source": [
    "for i in news_list:\n",
    "    news.section = news.section.replace(i,\"news\")"
   ]
  },
  {
   "cell_type": "markdown",
   "metadata": {},
   "source": [
    "FOOD"
   ]
  },
  {
   "cell_type": "code",
   "execution_count": 220,
   "metadata": {
    "scrolled": true
   },
   "outputs": [],
   "source": [
    "import re\n",
    "food_list = []\n",
    "for x in news.section.unique(): \n",
    "    if re.findall(\"(?i).*(food).*\",x):\n",
    "        food_list.append(x)"
   ]
  },
  {
   "cell_type": "code",
   "execution_count": 221,
   "metadata": {
    "scrolled": true
   },
   "outputs": [
    {
     "data": {
      "text/plain": [
       "['food-drink', 'hawaii-for-foodies', 'food', 'thesalt', 'express']"
      ]
     },
     "execution_count": 221,
     "metadata": {},
     "output_type": "execute_result"
    }
   ],
   "source": [
    "food_list.extend(['thesalt','express'])\n",
    "food_list"
   ]
  },
  {
   "cell_type": "code",
   "execution_count": 222,
   "metadata": {},
   "outputs": [],
   "source": [
    "for i in food_list:\n",
    "    news.section = news.section.replace(i,\"food\")"
   ]
  },
  {
   "cell_type": "markdown",
   "metadata": {},
   "source": [
    "ECONOMY, BUSINESS & JOB: every comments referred to the economic world and job sector."
   ]
  },
  {
   "cell_type": "code",
   "execution_count": 223,
   "metadata": {},
   "outputs": [],
   "source": [
    "import re\n",
    "e_b = []\n",
    "for x in news.section.unique(): \n",
    "    if re.findall(\"(?i).*(econom|business).*\",x):\n",
    "        e_b.append(x)"
   ]
  },
  {
   "cell_type": "code",
   "execution_count": 224,
   "metadata": {},
   "outputs": [
    {
     "data": {
      "text/plain": [
       "['business',\n",
       " 'sustainable-business',\n",
       " 'sapna',\n",
       " 'global-development',\n",
       " 'sustainable-connections',\n",
       " 'realestate',\n",
       " 'global-development-professionals-network',\n",
       " 'personal-investments',\n",
       " 'money',\n",
       " 'markets',\n",
       " 'leisure']"
      ]
     },
     "execution_count": 224,
     "metadata": {},
     "output_type": "execute_result"
    }
   ],
   "source": [
    "e_b.extend(['sapna','global-development','sustainable-connections','realestate','global-development-professionals-network','personal-investments','money','markets','leisure'])\n",
    "e_b"
   ]
  },
  {
   "cell_type": "code",
   "execution_count": 225,
   "metadata": {},
   "outputs": [],
   "source": [
    "for i in e_b:\n",
    "    news.section = news.section.replace(i,\"economy, business & jobs\")"
   ]
  },
  {
   "cell_type": "markdown",
   "metadata": {},
   "source": [
    "HEALTH & LIFESTYLE: every comment referred to health, lifestyle and environment."
   ]
  },
  {
   "cell_type": "code",
   "execution_count": 226,
   "metadata": {
    "scrolled": true
   },
   "outputs": [
    {
     "data": {
      "text/plain": [
       "['health',\n",
       " 'lifeandstyle',\n",
       " 'environment',\n",
       " 'health-revolution',\n",
       " 'health-shots',\n",
       " 'lifestyle',\n",
       " 'goatsandsoda']"
      ]
     },
     "execution_count": 226,
     "metadata": {},
     "output_type": "execute_result"
    }
   ],
   "source": [
    "h = []\n",
    "for x in news.section.unique(): \n",
    "    if re.findall(\"(?i).*(healt|life|envir).*\",x):\n",
    "        h.append(x)\n",
    "h.append('goatsandsoda')\n",
    "h"
   ]
  },
  {
   "cell_type": "code",
   "execution_count": 227,
   "metadata": {},
   "outputs": [],
   "source": [
    "for i in h:\n",
    "    news.section = news.section.replace(i,\"health & lifestyle\")"
   ]
  },
  {
   "cell_type": "markdown",
   "metadata": {},
   "source": [
    "SPORTS: everything about sports and cars"
   ]
  },
  {
   "cell_type": "code",
   "execution_count": 228,
   "metadata": {
    "scrolled": true
   },
   "outputs": [
    {
     "data": {
      "text/plain": [
       "['sports', 'auto', 'sport', 'football', 'cars', 'thetorch']"
      ]
     },
     "execution_count": 228,
     "metadata": {},
     "output_type": "execute_result"
    }
   ],
   "source": [
    "sport = []\n",
    "for x in news.section.unique(): \n",
    "    if re.findall(\"(?i).*(sport|auto).*\",x):\n",
    "        sport.append(x)\n",
    "sport.extend(['football','cars','thetorch'])\n",
    "sport"
   ]
  },
  {
   "cell_type": "code",
   "execution_count": 229,
   "metadata": {},
   "outputs": [],
   "source": [
    "for i in sport:\n",
    "    news.section = news.section.replace(i,\"sports\")"
   ]
  },
  {
   "cell_type": "markdown",
   "metadata": {},
   "source": [
    "TRAVEL"
   ]
  },
  {
   "cell_type": "code",
   "execution_count": 230,
   "metadata": {},
   "outputs": [
    {
     "data": {
      "text/plain": [
       "['travel', 'cities', 'flight-centre-journeys']"
      ]
     },
     "execution_count": 230,
     "metadata": {},
     "output_type": "execute_result"
    }
   ],
   "source": [
    "travel = []\n",
    "for x in news.section.unique(): \n",
    "    if re.findall(\"(?i).*(trav|journey|cit).*\",x):\n",
    "        travel.append(x)\n",
    "travel"
   ]
  },
  {
   "cell_type": "code",
   "execution_count": 231,
   "metadata": {},
   "outputs": [],
   "source": [
    "for i in travel:\n",
    "    news.section = news.section.replace(i,\"travel\")"
   ]
  },
  {
   "cell_type": "markdown",
   "metadata": {},
   "source": [
    "ART & FASHION about art, design, fashion."
   ]
  },
  {
   "cell_type": "code",
   "execution_count": 232,
   "metadata": {
    "scrolled": true
   },
   "outputs": [
    {
     "data": {
      "text/plain": [
       "['artanddesign', 'fashion']"
      ]
     },
     "execution_count": 232,
     "metadata": {},
     "output_type": "execute_result"
    }
   ],
   "source": [
    "af = []\n",
    "for x in news.section.unique(): \n",
    "    if re.findall(\"(?i).*(fash|design).*\",x):\n",
    "        af.append(x)\n",
    "af"
   ]
  },
  {
   "cell_type": "code",
   "execution_count": 233,
   "metadata": {},
   "outputs": [],
   "source": [
    "for i in af:\n",
    "    news.section = news.section.replace(i,\"art & fashion\")"
   ]
  },
  {
   "cell_type": "markdown",
   "metadata": {},
   "source": [
    "UNIVERSITY & SCHOOL"
   ]
  },
  {
   "cell_type": "code",
   "execution_count": 234,
   "metadata": {},
   "outputs": [],
   "source": [
    "ed = ['education','ed']\n",
    "for i in ed:\n",
    "    news.section = news.section.replace(i,\"university & school\")"
   ]
  },
  {
   "cell_type": "markdown",
   "metadata": {},
   "source": [
    "CRIME, about investigations and reports."
   ]
  },
  {
   "cell_type": "code",
   "execution_count": 235,
   "metadata": {},
   "outputs": [],
   "source": [
    "inv = ['how-to-solve-a-murder-a-detectives-dilemma','investigations']\n",
    "for i in inv:\n",
    "    news.section = news.section.replace(i,\"crime\")"
   ]
  },
  {
   "cell_type": "markdown",
   "metadata": {},
   "source": [
    "ENTERTAINMENT, about music, movies, tv, radio."
   ]
  },
  {
   "cell_type": "code",
   "execution_count": 236,
   "metadata": {},
   "outputs": [],
   "source": [
    "ent = ['entertainment','film','global','music','ablogsupreme','therecord','altlatino',\n",
    "       'allsongs','goingoutguide','monkeysee','world-cafe','stage','deceptivecadence',\n",
    "       'tv-and-radio','tellshow']\n",
    "for i in ent:\n",
    "    news.section = news.section.replace(i,\"enterteitment\")"
   ]
  },
  {
   "cell_type": "code",
   "execution_count": 259,
   "metadata": {},
   "outputs": [],
   "source": [
    "news.section = news.section.replace(\"enterteitment\",'entertainment')"
   ]
  },
  {
   "cell_type": "markdown",
   "metadata": {},
   "source": [
    "LGBT, comment about LGBT community."
   ]
  },
  {
   "cell_type": "code",
   "execution_count": 237,
   "metadata": {},
   "outputs": [],
   "source": [
    "for i in ['hazelnewlevant','skarlan']:\n",
    "    news.section = news.section.replace(i,\"LGBT\")"
   ]
  },
  {
   "cell_type": "markdown",
   "metadata": {},
   "source": [
    "BOOKS: 'books'"
   ]
  },
  {
   "cell_type": "markdown",
   "metadata": {},
   "source": [
    "CULTURE: "
   ]
  },
  {
   "cell_type": "code",
   "execution_count": 238,
   "metadata": {},
   "outputs": [],
   "source": [
    "culture = ['culture', 'society','info','defining-moment','npr-history-dept','progress-personified','ikrd']\n",
    "for i in culture:\n",
    "    news.section = news.section.replace(i,\"culture\")"
   ]
  },
  {
   "cell_type": "markdown",
   "metadata": {},
   "source": [
    "MEDIA, about mass media and social network."
   ]
  },
  {
   "cell_type": "code",
   "execution_count": 239,
   "metadata": {},
   "outputs": [],
   "source": [
    "media = ['media','theguardian','media-network']\n",
    "for i in media:\n",
    "    news.section = news.section.replace(i,\"media\")"
   ]
  },
  {
   "cell_type": "code",
   "execution_count": 260,
   "metadata": {},
   "outputs": [],
   "source": [
    "cat = ['news', 'law & politics', 'economy, business & jobs',\n",
    "       'entertainment', 'sports', 'science & tech', 'health & lifestyle',\n",
    "       'travel','food', 'LGBT', 'books', \"media\", \"culture\",'university & school','crime','art & fashion']"
   ]
  },
  {
   "cell_type": "code",
   "execution_count": 261,
   "metadata": {},
   "outputs": [],
   "source": [
    "not_cat = [e for e in news.section.unique() if e not in cat]"
   ]
  },
  {
   "cell_type": "code",
   "execution_count": 262,
   "metadata": {},
   "outputs": [],
   "source": [
    "for i in not_cat:\n",
    "    news.section = news.section.replace(i,np.nan)"
   ]
  },
  {
   "cell_type": "code",
   "execution_count": 263,
   "metadata": {
    "scrolled": false
   },
   "outputs": [
    {
     "data": {
      "text/plain": [
       "array(['news', 'law & politics', 'economy, business & jobs',\n",
       "       'entertainment', 'sports', 'science & tech', 'health & lifestyle',\n",
       "       'travel', nan, 'food', 'LGBT', 'culture', 'art & fashion', 'books',\n",
       "       'crime', 'media', 'university & school'], dtype=object)"
      ]
     },
     "execution_count": 263,
     "metadata": {},
     "output_type": "execute_result"
    }
   ],
   "source": [
    "news.section.unique()"
   ]
  },
  {
   "cell_type": "code",
   "execution_count": 300,
   "metadata": {},
   "outputs": [],
   "source": [
    "n = news[news.section.notna()]"
   ]
  },
  {
   "cell_type": "code",
   "execution_count": 301,
   "metadata": {},
   "outputs": [
    {
     "data": {
      "text/plain": [
       "61211"
      ]
     },
     "execution_count": 301,
     "metadata": {},
     "output_type": "execute_result"
    }
   ],
   "source": [
    "len(n)"
   ]
  },
  {
   "cell_type": "code",
   "execution_count": 302,
   "metadata": {},
   "outputs": [],
   "source": [
    "n=n[['date','title','content','author','publication','section','category','digital']]"
   ]
  },
  {
   "cell_type": "markdown",
   "metadata": {},
   "source": [
    "Now, we have to remove duplicates:"
   ]
  },
  {
   "cell_type": "code",
   "execution_count": 303,
   "metadata": {},
   "outputs": [],
   "source": [
    "n.drop_duplicates(keep='first',inplace=True)"
   ]
  },
  {
   "cell_type": "code",
   "execution_count": 304,
   "metadata": {},
   "outputs": [
    {
     "data": {
      "text/plain": [
       "61211"
      ]
     },
     "execution_count": 304,
     "metadata": {},
     "output_type": "execute_result"
    }
   ],
   "source": [
    "len(n)"
   ]
  },
  {
   "cell_type": "markdown",
   "metadata": {},
   "source": [
    "Thus, there are no rows equal in all the columns, but, maybe, only in \"content\"."
   ]
  },
  {
   "cell_type": "code",
   "execution_count": 305,
   "metadata": {},
   "outputs": [],
   "source": [
    "n.drop_duplicates(subset='content',keep='first',inplace=True)"
   ]
  },
  {
   "cell_type": "code",
   "execution_count": 306,
   "metadata": {},
   "outputs": [
    {
     "name": "stdout",
     "output_type": "stream",
     "text": [
      "There were 556 identical articles in the database.\n"
     ]
    }
   ],
   "source": [
    "len(n)\n",
    "print(\"There were\",61211-len(n),\"identical articles in the database.\")"
   ]
  },
  {
   "cell_type": "markdown",
   "metadata": {},
   "source": [
    "Then, clean the text:"
   ]
  },
  {
   "cell_type": "code",
   "execution_count": 326,
   "metadata": {},
   "outputs": [],
   "source": [
    "n1 = n\n",
    "n1 = n1[n1.title.notna()]\n",
    "n1 = n1[n1.content.notna()]"
   ]
  },
  {
   "cell_type": "markdown",
   "metadata": {},
   "source": [
    "1) Convert text to lowercase:"
   ]
  },
  {
   "cell_type": "code",
   "execution_count": 329,
   "metadata": {},
   "outputs": [],
   "source": [
    "def lowerization(x):\n",
    "    return x.lower()"
   ]
  },
  {
   "cell_type": "code",
   "execution_count": 331,
   "metadata": {},
   "outputs": [],
   "source": [
    "n1.title = n1.title.apply(lowerization)"
   ]
  },
  {
   "cell_type": "code",
   "execution_count": 334,
   "metadata": {},
   "outputs": [],
   "source": [
    "n1.content = n1.content.apply(lowerization)"
   ]
  },
  {
   "cell_type": "markdown",
   "metadata": {},
   "source": [
    "2) Remove numbers:"
   ]
  },
  {
   "cell_type": "code",
   "execution_count": 338,
   "metadata": {},
   "outputs": [],
   "source": [
    "import re\n",
    "def rem_num(x):\n",
    "    return re.sub(r'\\d+', '', x)"
   ]
  },
  {
   "cell_type": "code",
   "execution_count": 340,
   "metadata": {},
   "outputs": [],
   "source": [
    "n1.title = n1.title.apply(rem_num)\n",
    "n1.content = n1.content.apply(rem_num)"
   ]
  },
  {
   "cell_type": "markdown",
   "metadata": {},
   "source": [
    "3) Remove escape and special characters and punctuation:"
   ]
  },
  {
   "cell_type": "code",
   "execution_count": 378,
   "metadata": {},
   "outputs": [],
   "source": [
    "def rem(x):\n",
    "    return re.sub(re.compile('[\\W_]+', re.UNICODE),\" \",x)"
   ]
  },
  {
   "cell_type": "code",
   "execution_count": 381,
   "metadata": {},
   "outputs": [],
   "source": [
    "n1.title = n1.title.apply(rem)\n",
    "n1.content = n1.content.apply(rem)"
   ]
  },
  {
   "cell_type": "markdown",
   "metadata": {},
   "source": [
    "4) Remove stop words"
   ]
  },
  {
   "cell_type": "code",
   "execution_count": 397,
   "metadata": {},
   "outputs": [],
   "source": [
    "from sklearn.feature_extraction.stop_words import ENGLISH_STOP_WORDS\n",
    "stop_words = set(ENGLISH_STOP_WORDS)"
   ]
  },
  {
   "cell_type": "code",
   "execution_count": 406,
   "metadata": {
    "scrolled": true
   },
   "outputs": [
    {
     "name": "stdout",
     "output_type": "stream",
     "text": [
      "[nltk_data] Downloading package punkt to\n",
      "[nltk_data]     /Users/riccardocervero/nltk_data...\n",
      "[nltk_data]   Unzipping tokenizers/punkt.zip.\n"
     ]
    },
    {
     "data": {
      "text/plain": [
       "True"
      ]
     },
     "execution_count": 406,
     "metadata": {},
     "output_type": "execute_result"
    }
   ],
   "source": [
    "import nltk\n",
    "nltk.download('punkt')"
   ]
  },
  {
   "cell_type": "code",
   "execution_count": 408,
   "metadata": {},
   "outputs": [],
   "source": [
    "from nltk.tokenize import word_tokenize"
   ]
  },
  {
   "cell_type": "code",
   "execution_count": 423,
   "metadata": {},
   "outputs": [],
   "source": [
    "def rem_stop(x):\n",
    "    tokens = word_tokenize(x)\n",
    "    result = [i for i in tokens if not i in stop_words]\n",
    "    return re.sub(re.compile('[\\W_]+', re.UNICODE),\" \",str(result)).strip()"
   ]
  },
  {
   "cell_type": "code",
   "execution_count": 425,
   "metadata": {
    "scrolled": true
   },
   "outputs": [],
   "source": [
    "n1.title = n1.title.apply(rem_stop)\n",
    "n1.content = n1.content.apply(rem_stop)"
   ]
  },
  {
   "cell_type": "markdown",
   "metadata": {},
   "source": [
    "5) Lemmatization"
   ]
  },
  {
   "cell_type": "code",
   "execution_count": 8,
   "metadata": {},
   "outputs": [],
   "source": [
    "import spacy\n",
    "nlp = spacy.load('en', disable=['parser', 'ner'])\n",
    "def lem(x):\n",
    "    doc = nlp(x)\n",
    "    return \" \".join([token.lemma_ for token in doc]).replace(\"-PRON- \",\"\")"
   ]
  },
  {
   "cell_type": "code",
   "execution_count": 22,
   "metadata": {},
   "outputs": [],
   "source": [
    "n1.title = n1.title.apply(lem)\n",
    "n1.content = n1.content.apply(lem)"
   ]
  },
  {
   "cell_type": "markdown",
   "metadata": {},
   "source": [
    "6) Removing \"Sign-comment\" from content: it has been noticed that many contents from Fox News starts with the sentence \"Sign in to comment!\"."
   ]
  },
  {
   "cell_type": "code",
   "execution_count": 14,
   "metadata": {},
   "outputs": [],
   "source": [
    "n2 = n1"
   ]
  },
  {
   "cell_type": "code",
   "execution_count": 65,
   "metadata": {},
   "outputs": [],
   "source": [
    "import re\n",
    "def rem_sc(x):\n",
    "    if re.findall(\"(?i).*(^sign comment).*\",x):\n",
    "        return x.replace(\"sign comment\",\"\").strip()"
   ]
  },
  {
   "cell_type": "code",
   "execution_count": 86,
   "metadata": {},
   "outputs": [],
   "source": [
    "n2.content[n2.publication=='Fox News'] = n2.content[n2.publication=='Fox News'].apply(rem_sc)"
   ]
  },
  {
   "cell_type": "code",
   "execution_count": 87,
   "metadata": {
    "scrolled": true
   },
   "outputs": [
    {
     "data": {
      "text/html": [
       "<div>\n",
       "<style scoped>\n",
       "    .dataframe tbody tr th:only-of-type {\n",
       "        vertical-align: middle;\n",
       "    }\n",
       "\n",
       "    .dataframe tbody tr th {\n",
       "        vertical-align: top;\n",
       "    }\n",
       "\n",
       "    .dataframe thead th {\n",
       "        text-align: right;\n",
       "    }\n",
       "</style>\n",
       "<table border=\"1\" class=\"dataframe\">\n",
       "  <thead>\n",
       "    <tr style=\"text-align: right;\">\n",
       "      <th></th>\n",
       "      <th>date</th>\n",
       "      <th>title</th>\n",
       "      <th>content</th>\n",
       "      <th>author</th>\n",
       "      <th>publication</th>\n",
       "      <th>section</th>\n",
       "      <th>category</th>\n",
       "      <th>digital</th>\n",
       "    </tr>\n",
       "  </thead>\n",
       "  <tbody>\n",
       "    <tr>\n",
       "      <th>0</th>\n",
       "      <td>2015-12-31</td>\n",
       "      <td>tear dubai luxury hotel near plan firework</td>\n",
       "      <td>dozen people hurt massive broke luxury hotel d...</td>\n",
       "      <td>NaN</td>\n",
       "      <td>Fox News</td>\n",
       "      <td>news</td>\n",
       "      <td>broadcast</td>\n",
       "      <td>3.0</td>\n",
       "    </tr>\n",
       "    <tr>\n",
       "      <th>1</th>\n",
       "      <td>2015-12-31</td>\n",
       "      <td>carson campaign staffer resign</td>\n",
       "      <td>republican presidential candidate ben carson s...</td>\n",
       "      <td>NaN</td>\n",
       "      <td>Fox News</td>\n",
       "      <td>law &amp; politics</td>\n",
       "      <td>broadcast</td>\n",
       "      <td>3.0</td>\n",
       "    </tr>\n",
       "    <tr>\n",
       "      <th>2</th>\n",
       "      <td>2015-12-31</td>\n",
       "      <td>democrat martin o malley fail qualify ohio s p...</td>\n",
       "      <td>democratic presidential candidate martin o mal...</td>\n",
       "      <td>NaN</td>\n",
       "      <td>Fox News</td>\n",
       "      <td>law &amp; politics</td>\n",
       "      <td>broadcast</td>\n",
       "      <td>3.0</td>\n",
       "    </tr>\n",
       "    <tr>\n",
       "      <th>3</th>\n",
       "      <td>2015-12-30</td>\n",
       "      <td>brawl break gop race trump tier</td>\n",
       "      <td>nasty battle break republican presidential fie...</td>\n",
       "      <td>NaN</td>\n",
       "      <td>Fox News</td>\n",
       "      <td>law &amp; politics</td>\n",
       "      <td>broadcast</td>\n",
       "      <td>3.0</td>\n",
       "    </tr>\n",
       "    <tr>\n",
       "      <th>4</th>\n",
       "      <td>2015-12-30</td>\n",
       "      <td>donald trump blast clinton great abuser world</td>\n",
       "      <td>donald trump launch new attack hillary clinton...</td>\n",
       "      <td>Christopher Snyder</td>\n",
       "      <td>Fox News</td>\n",
       "      <td>law &amp; politics</td>\n",
       "      <td>broadcast</td>\n",
       "      <td>3.0</td>\n",
       "    </tr>\n",
       "  </tbody>\n",
       "</table>\n",
       "</div>"
      ],
      "text/plain": [
       "         date                                              title  \\\n",
       "0  2015-12-31         tear dubai luxury hotel near plan firework   \n",
       "1  2015-12-31                     carson campaign staffer resign   \n",
       "2  2015-12-31  democrat martin o malley fail qualify ohio s p...   \n",
       "3  2015-12-30                    brawl break gop race trump tier   \n",
       "4  2015-12-30      donald trump blast clinton great abuser world   \n",
       "\n",
       "                                             content              author  \\\n",
       "0  dozen people hurt massive broke luxury hotel d...                 NaN   \n",
       "1  republican presidential candidate ben carson s...                 NaN   \n",
       "2  democratic presidential candidate martin o mal...                 NaN   \n",
       "3  nasty battle break republican presidential fie...                 NaN   \n",
       "4  donald trump launch new attack hillary clinton...  Christopher Snyder   \n",
       "\n",
       "  publication         section   category  digital  \n",
       "0    Fox News            news  broadcast      3.0  \n",
       "1    Fox News  law & politics  broadcast      3.0  \n",
       "2    Fox News  law & politics  broadcast      3.0  \n",
       "3    Fox News  law & politics  broadcast      3.0  \n",
       "4    Fox News  law & politics  broadcast      3.0  "
      ]
     },
     "execution_count": 87,
     "metadata": {},
     "output_type": "execute_result"
    }
   ],
   "source": [
    "n2.head()"
   ]
  },
  {
   "cell_type": "code",
   "execution_count": 97,
   "metadata": {},
   "outputs": [],
   "source": [
    "n2.to_csv(\"/Users/riccardocervero/Desktop/news_preprocessed.csv\")"
   ]
  },
  {
   "cell_type": "markdown",
   "metadata": {},
   "source": [
    "A final descriptive analysis:"
   ]
  },
  {
   "cell_type": "code",
   "execution_count": 91,
   "metadata": {},
   "outputs": [
    {
     "data": {
      "text/plain": [
       "section\n",
       "news                        32684\n",
       "law & politics              18293\n",
       "health & lifestyle           2806\n",
       "entertainment                1843\n",
       "sports                       1470\n",
       "science & tech               1210\n",
       "food                          681\n",
       "economy, business & jobs      413\n",
       "university & school           345\n",
       "culture                       228\n",
       "books                         190\n",
       "art & fashion                 175\n",
       "travel                         97\n",
       "media                          83\n",
       "LGBT                           48\n",
       "crime                          39\n",
       "dtype: int64"
      ]
     },
     "execution_count": 91,
     "metadata": {},
     "output_type": "execute_result"
    }
   ],
   "source": [
    "n2.groupby('section').size().sort_values(ascending=False)"
   ]
  },
  {
   "cell_type": "code",
   "execution_count": 92,
   "metadata": {
    "scrolled": true
   },
   "outputs": [
    {
     "data": {
      "text/plain": [
       "publication          section                 \n",
       "Buzzfeed News        LGBT                           48\n",
       "                     culture                         4\n",
       "                     economy, business & jobs       15\n",
       "                     entertainment                   1\n",
       "                     news                          154\n",
       "Fox News             economy, business & jobs       42\n",
       "                     entertainment                 168\n",
       "                     food                            1\n",
       "                     health & lifestyle             85\n",
       "                     law & politics               2372\n",
       "                     news                         1384\n",
       "                     science & tech                177\n",
       "                     sports                        104\n",
       "                     travel                         20\n",
       "Guardian             art & fashion                 175\n",
       "                     books                         190\n",
       "                     crime                           2\n",
       "                     culture                       221\n",
       "                     economy, business & jobs      221\n",
       "                     entertainment                1154\n",
       "                     food                            2\n",
       "                     health & lifestyle            459\n",
       "                     law & politics                970\n",
       "                     media                          83\n",
       "                     news                         3427\n",
       "                     science & tech                535\n",
       "                     sports                       1153\n",
       "                     travel                         77\n",
       "                     university & school             9\n",
       "Los Angeles Times    economy, business & jobs        2\n",
       "                     entertainment                   1\n",
       "                     food                            2\n",
       "                     health & lifestyle              1\n",
       "                     law & politics                  5\n",
       "                     news                           16\n",
       "                     sports                          4\n",
       "NPR                  culture                         3\n",
       "                     economy, business & jobs        4\n",
       "                     entertainment                 446\n",
       "                     food                          675\n",
       "                     health & lifestyle           1710\n",
       "                     law & politics                275\n",
       "                     news                         3752\n",
       "                     science & tech                498\n",
       "                     sports                         80\n",
       "                     university & school           336\n",
       "National Review      law & politics               6180\n",
       "New York Post        news                        17056\n",
       "Talking Points Memo  law & politics               4523\n",
       "                     news                          672\n",
       "Washington Post      crime                          37\n",
       "                     economy, business & jobs      129\n",
       "                     entertainment                  73\n",
       "                     food                            1\n",
       "                     health & lifestyle            551\n",
       "                     law & politics               3968\n",
       "                     news                         6223\n",
       "                     sports                        129\n",
       "dtype: int64"
      ]
     },
     "execution_count": 92,
     "metadata": {},
     "output_type": "execute_result"
    }
   ],
   "source": [
    "n2.groupby(['publication','section']).size()"
   ]
  },
  {
   "cell_type": "markdown",
   "metadata": {},
   "source": [
    "Sampling with same frequency for section and possibly for publication."
   ]
  },
  {
   "cell_type": "code",
   "execution_count": null,
   "metadata": {},
   "outputs": [],
   "source": [
    "n4 = n3"
   ]
  },
  {
   "cell_type": "code",
   "execution_count": 22,
   "metadata": {},
   "outputs": [],
   "source": [
    "n_s = pd.DataFrame() \n",
    "for i in n4.section.unique():\n",
    "    for j in n4.publication.unique():\n",
    "        n_s=n_s.append(n4[(n4.section == i)&(n4.publication == j)].sample(round(len(n4[(n4.section == i)&(n4.publication == j)])*0.3))) "
   ]
  },
  {
   "cell_type": "code",
   "execution_count": 29,
   "metadata": {
    "scrolled": true
   },
   "outputs": [
    {
     "data": {
      "text/html": [
       "<div>\n",
       "<style scoped>\n",
       "    .dataframe tbody tr th:only-of-type {\n",
       "        vertical-align: middle;\n",
       "    }\n",
       "\n",
       "    .dataframe tbody tr th {\n",
       "        vertical-align: top;\n",
       "    }\n",
       "\n",
       "    .dataframe thead th {\n",
       "        text-align: right;\n",
       "    }\n",
       "</style>\n",
       "<table border=\"1\" class=\"dataframe\">\n",
       "  <thead>\n",
       "    <tr style=\"text-align: right;\">\n",
       "      <th></th>\n",
       "      <th>date</th>\n",
       "      <th>title</th>\n",
       "      <th>content</th>\n",
       "      <th>author</th>\n",
       "      <th>publication</th>\n",
       "      <th>section</th>\n",
       "      <th>category</th>\n",
       "      <th>digital</th>\n",
       "    </tr>\n",
       "  </thead>\n",
       "  <tbody>\n",
       "    <tr>\n",
       "      <th>0</th>\n",
       "      <td>2016-03-29</td>\n",
       "      <td>video coast guard s million cocaine bust panam...</td>\n",
       "      <td>northern california u s coast guard crew seize...</td>\n",
       "      <td>NaN</td>\n",
       "      <td>Fox News</td>\n",
       "      <td>news</td>\n",
       "      <td>broadcast</td>\n",
       "      <td>3.0</td>\n",
       "    </tr>\n",
       "    <tr>\n",
       "      <th>1</th>\n",
       "      <td>2016-07-01</td>\n",
       "      <td>escape isis yazidi woman recount life sex slave</td>\n",
       "      <td>isis lay siege yazidi village dot iraq s mount...</td>\n",
       "      <td>Hollie McKay</td>\n",
       "      <td>Fox News</td>\n",
       "      <td>news</td>\n",
       "      <td>broadcast</td>\n",
       "      <td>3.0</td>\n",
       "    </tr>\n",
       "    <tr>\n",
       "      <th>2</th>\n",
       "      <td>2016-06-17</td>\n",
       "      <td>gay friendly beach town bar cautious wake orla...</td>\n",
       "      <td>official east coast beach town popular lgbt co...</td>\n",
       "      <td>NaN</td>\n",
       "      <td>Fox News</td>\n",
       "      <td>news</td>\n",
       "      <td>broadcast</td>\n",
       "      <td>3.0</td>\n",
       "    </tr>\n",
       "    <tr>\n",
       "      <th>3</th>\n",
       "      <td>2016-06-18</td>\n",
       "      <td>dc school teach obama daughter ban redskin clo...</td>\n",
       "      <td>prestigious high school teach president obama ...</td>\n",
       "      <td>NaN</td>\n",
       "      <td>Fox News</td>\n",
       "      <td>news</td>\n",
       "      <td>broadcast</td>\n",
       "      <td>3.0</td>\n",
       "    </tr>\n",
       "    <tr>\n",
       "      <th>4</th>\n",
       "      <td>2016-03-22</td>\n",
       "      <td>american wound belgium attack official say</td>\n",
       "      <td>official reveal detail tuesday american wound ...</td>\n",
       "      <td>NaN</td>\n",
       "      <td>Fox News</td>\n",
       "      <td>news</td>\n",
       "      <td>broadcast</td>\n",
       "      <td>3.0</td>\n",
       "    </tr>\n",
       "  </tbody>\n",
       "</table>\n",
       "</div>"
      ],
      "text/plain": [
       "         date                                              title  \\\n",
       "0  2016-03-29  video coast guard s million cocaine bust panam...   \n",
       "1  2016-07-01    escape isis yazidi woman recount life sex slave   \n",
       "2  2016-06-17  gay friendly beach town bar cautious wake orla...   \n",
       "3  2016-06-18  dc school teach obama daughter ban redskin clo...   \n",
       "4  2016-03-22         american wound belgium attack official say   \n",
       "\n",
       "                                             content        author  \\\n",
       "0  northern california u s coast guard crew seize...           NaN   \n",
       "1  isis lay siege yazidi village dot iraq s mount...  Hollie McKay   \n",
       "2  official east coast beach town popular lgbt co...           NaN   \n",
       "3  prestigious high school teach president obama ...           NaN   \n",
       "4  official reveal detail tuesday american wound ...           NaN   \n",
       "\n",
       "  publication section   category  digital  \n",
       "0    Fox News    news  broadcast      3.0  \n",
       "1    Fox News    news  broadcast      3.0  \n",
       "2    Fox News    news  broadcast      3.0  \n",
       "3    Fox News    news  broadcast      3.0  \n",
       "4    Fox News    news  broadcast      3.0  "
      ]
     },
     "execution_count": 29,
     "metadata": {},
     "output_type": "execute_result"
    }
   ],
   "source": [
    "n_s = n_s.reset_index()\n",
    "n_s = n_s[['date','title','content','author','publication','section','category','digital']]\n",
    "n_s.head()"
   ]
  },
  {
   "cell_type": "code",
   "execution_count": 30,
   "metadata": {},
   "outputs": [],
   "source": [
    "n_s.to_csv(\"/Users/riccardocervero/Desktop/news_sample.csv\")"
   ]
  }
 ],
 "metadata": {
  "kernelspec": {
   "display_name": "Python 3",
   "language": "python",
   "name": "python3"
  },
  "language_info": {
   "codemirror_mode": {
    "name": "ipython",
    "version": 3
   },
   "file_extension": ".py",
   "mimetype": "text/x-python",
   "name": "python",
   "nbconvert_exporter": "python",
   "pygments_lexer": "ipython3",
   "version": "3.6.5"
  }
 },
 "nbformat": 4,
 "nbformat_minor": 2
}
